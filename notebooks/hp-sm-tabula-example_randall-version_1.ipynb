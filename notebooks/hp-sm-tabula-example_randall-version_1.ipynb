{
 "cells": [
  {
   "cell_type": "code",
   "execution_count": 82,
   "metadata": {},
   "outputs": [
    {
     "name": "stdout",
     "output_type": "stream",
     "text": [
      "../sample-data/B1705_2000560947.pdf\n",
      "../sample-data/B1705_2000560948.pdf\n",
      "../sample-data/B1705_2000560949.pdf\n",
      "../sample-data/B1705_2000604352 (1).pdf\n",
      "../sample-data/B1705_2000604358.pdf\n",
      "../sample-data/B1705_2000604586.pdf\n",
      "../sample-data/B1705_2000606271.pdf\n",
      "  Animal ID: BASOPHILS BASOPHILS%  \\\n",
      "1       1635       0.0          0   \n",
      "1       1646       0.0          0   \n",
      "1       1654       0.1          1   \n",
      "1     EB #34       0.0          0   \n",
      "1    E4H #34         0        0.0   \n",
      "1   E21H #34       0.0          0   \n",
      "1       1691                  0.1   \n",
      "\n",
      "                             BLOOD SMEAR EXAMINATION   Collected: EOSINOPHILS  \\\n",
      "1   Occasional activated lymphocytes, Red cell mo...  15/01/2018          0.0   \n",
      "1   Mild lymphocyte activation, Red cell morpholo...  15/01/2018          0.1   \n",
      "1  PLASMA APPEARANCE To Follow, Red cell and whit...  15/01/2018          0.1   \n",
      "1        Red cell and white cell, morphology normal.  27/06/2018          0.6   \n",
      "1  PLASMA APPEARANCE Normal, Red cell and white cell  27/06/2018            1   \n",
      "1        Red cell and white cell, morphology normal.  27/06/2018          0.0   \n",
      "1   morphology normal.,Platelet estimate from the...  04/07/2018            1   \n",
      "\n",
      "  EOSINOPHILS% FIBRINOGEN HAEMATOCRIT HAEMOGLOBIN ...  NEUTROPHILS  \\\n",
      "1            0        1.0        0.40         129 ...          4.2   \n",
      "1            1        2.0        0.32         116 ...          2.8   \n",
      "1            1                   0.31         114 ...          1.7   \n",
      "1            9        3.0        0.37         121 ...          2.1   \n",
      "1          0.0                   0.23          72 ...           79   \n",
      "1            0        1.0        0.24          75 ...          1.6   \n",
      "1          0.7          0        0.40         131 ...           64   \n",
      "\n",
      "  NEUTROPHILS% PLASMA APPEARANCE PLATELET APPEARANCE PLATELET COUNT  \\\n",
      "1           47            Normal              Normal            363   \n",
      "1           44            Normal              Normal            421   \n",
      "1           24               g/L              Normal            332   \n",
      "1           30              Mild              Normal            256   \n",
      "1          4.2               g/L                  11            g/L   \n",
      "1           72            Normal                  11            g/L   \n",
      "1          1.7               Red             Clumped        x10^9/L   \n",
      "\n",
      "  PROTEIN PLASMA   RBC   Received:  WBC   31  \n",
      "1             69  10.9  15/01/2018  8.9  NaN  \n",
      "1             68   9.0  15/01/2018  6.4  NaN  \n",
      "1            per   NaN  15/01/2018  7.0  NaN  \n",
      "1             68  10.4  27/06/2018  7.1  NaN  \n",
      "1           None   6.3  27/06/2018  6.3  NaN  \n",
      "1             37   6.6  27/06/2018  2.2  1.0  \n",
      "1           None  11.2  05/07/2018   25  NaN  \n",
      "\n",
      "[7 rows x 27 columns]\n"
     ]
    }
   ],
   "source": [
    "import tabula, pandas, glob, os\n",
    "\n",
    "# Read pdf into DataFrame\n",
    "# df = tabula.read_pdf(\"test.pdf\", options)\n",
    "\n",
    "from tabula import wrapper\n",
    "#df = wrapper.read_pdf('../sample-data/B1705_2000560947.pdf', output_format='dataframe', guess=False)\n",
    "#df = wrapper.read_pdf('../sample-data/B1705_2000560948.pdf', output_format='dataframe', guess=False)\n",
    "#df = wrapper.read_pdf('../sample-data/B1705_2000604352 (1).pdf', output_format='dataframe', guess=False)\n",
    "\n",
    "\n",
    "collection_frame = []\n",
    "\n",
    "\n",
    "for file in os.listdir(\"../sample-data/\"):\n",
    "    if file.endswith(\".pdf\"):\n",
    "        #print(file)\n",
    "        filepath = \"../sample-data/{}\".format(file)\n",
    "        print(filepath)\n",
    "        df = wrapper.read_pdf(filepath, output_format='dataframe', guess=False)\n",
    "        list(df)\n",
    "        RBC_Value= df['Unnamed: 0'][df['Unnamed: 0'].str.contains(\"RBC\").__eq__(True)]\n",
    "        Fibrinogen_Value= df['Unnamed: 0'][df['Unnamed: 0'].str.contains(\"FIBRINOGEN\").__eq__(True)]\n",
    "\n",
    "        #getting rows from start to finish\n",
    "        test= df['Unnamed: 0'].str.split(' ', expand=True)[1][11:32]\n",
    "        #print(test)\n",
    "        test2 = df['Unnamed: 0'].str.split(' ', expand=True)[2][18]\n",
    "\n",
    "        test3 = df['Unnamed: 0'].str.split(' ', expand=True)[3][30]\n",
    "        #print(test3)\n",
    "\n",
    "        platelet_appearance = df['Unnamed: 0'].str.split(' ', expand=True)[1][17]\n",
    "        plasma_appearance = df['Unnamed: 0'].str.split(' ', expand=True)[2][32]\n",
    "\n",
    "\n",
    "        # Remove rows with alphabetic characters\n",
    "        test=test[~test.str.contains(\"[a-zA-Z]\").fillna(False)]\n",
    "        #print(test)\n",
    "        columns = ['RBC', 'HAEMOGLOBIN', 'HAEMATOCRIT', 'MCV', 'MCH',            \n",
    "        'MCHC',\n",
    "        'PLATELET COUNT',\n",
    "        'WBC',\n",
    "        'NEUTROPHILS%',\n",
    "        'NEUTROPHILS',\n",
    "        'LYMPHOCYTES%',\n",
    "        'LYMPHOCYTES',\n",
    "        'MONOCYTES%',\n",
    "        'MONOCYTES',\n",
    "        'EOSINOPHILS%',\n",
    "        'EOSINOPHILS',\n",
    "        'BASOPHILS%',\n",
    "        'BASOPHILS',\n",
    "        'PROTEIN PLASMA',\n",
    "        'FIBRINOGEN',\n",
    "        'PLASMA APPEARANCE',\n",
    "        'BLOOD SMEAR EXAMINATION']\n",
    "\n",
    "        index = \"\"\n",
    "        values = test\n",
    "\n",
    "\n",
    "        values[\"RBC\"] = test[11]\n",
    "        values[\"HAEMOGLOBIN\"] = test[12]\n",
    "        values[\"HAEMATOCRIT\"] =test[13]\n",
    "        values[\"MCV\"] = test[14]\n",
    "        values[\"MCH\"] = test[15]\n",
    "        values[\"MCHC\"] = test[16]\n",
    "        values[\"PLATELET APPEARANCE\"] = platelet_appearance\n",
    "        values[\"PLATELET COUNT\"] = test2\n",
    "        values[\"WBC\"] = test[19]\n",
    "        values[\"NEUTROPHILS%\"] = test[20]\n",
    "        values[\"NEUTROPHILS\"] = test[21]\n",
    "        values[\"LYMPHOCYTES%\"] = test[22]\n",
    "        values['LYMPHOCYTES'] = test[23]\n",
    "        values[\"MONOCYTES%\"] = test[24]\n",
    "        values[\"MONOCYTES\"] = test[25]\n",
    "        values[\"EOSINOPHILS%\"] = test[26]\n",
    "        values[\"EOSINOPHILS\"]  = test[27]\n",
    "        values[\"BASOPHILS%\"] = test[28]\n",
    "        values[\"BASOPHILS\"] = test[29]\n",
    "        values[\"PROTEIN PLASMA\"] = test3\n",
    "        values[\"FIBRINOGEN\"] = test[31]\n",
    "        values[\"PLASMA APPEARANCE\"] = plasma_appearance\n",
    "\n",
    "        blood_smear_examination = df['Unnamed: 0'][33:35]\n",
    "        blood_smear_examination = blood_smear_examination.str.replace('BLOOD SMEAR', '')\n",
    "        blood_smear_examination = blood_smear_examination.str.replace('EXAMINATION', '')\n",
    "        blood_smear_examination= blood_smear_examination.str.cat(sep=',')\n",
    "        values[\"BLOOD SMEAR EXAMINATION\"] = blood_smear_examination\n",
    "        values = values[19:]\n",
    "        #print(values) \n",
    "        animal_id = df[\"Unnamed: 1\"][5]\n",
    "\n",
    "        #animal_id = animal_id.split('Animal ID:', expand=True)\n",
    "        animal_id=animal_id.replace('Animal ID:','')\n",
    "        values[\"Animal ID:\"]=animal_id\n",
    "        collection_date = df[\"Unnamed: 0\"][7]\n",
    "        #collection_date= collection_date.replace('Received:', \"\")\n",
    "        collection_date = collection_date.split(\"Received:\")[0]\n",
    "        collection_date = collection_date.split(\"Collected:\")[1]\n",
    "        values[\"Collected:\"] = collection_date\n",
    "        #print(collection_date)\n",
    "        #animal_id=animal_id.replace('Animal ID:','')\n",
    "        #values[\"Animal ID:\"]=animal_id\n",
    "        #print(values)\n",
    "        #print(collection_date)\n",
    "        #print(df)\n",
    "        received_date = df[\"Unnamed: 0\"][7]\n",
    "        received_date = received_date.split(\"Received:\")[1]\n",
    "        values[\"Received:\"] = received_date\n",
    "        #print(received_date)\n",
    "        #print(values)\n",
    "        collection_frame.append(values)\n",
    "    \n",
    "\n",
    "#print(collection_frame)\n",
    "testing = pandas.DataFrame(collection_frame)\n",
    "print(testing)\n",
    "\n",
    "testing.to_csv(\"../sample-data/combined_results.csv\", encoding='utf-8', index=False)\n",
    "\n",
    "\n",
    "df = wrapper.read_pdf('../sample-data/B1705_2000560949.pdf', output_format='dataframe', guess=False)"
   ]
  },
  {
   "cell_type": "code",
   "execution_count": 43,
   "metadata": {
    "collapsed": true
   },
   "outputs": [],
   "source": [
    "#df = read_pdf('../sample-data/B1705_2000560947.pdf', output_format='dataframe', guess=False)\n",
    "# top left bottom right"
   ]
  },
  {
   "cell_type": "code",
   "execution_count": 88,
   "metadata": {
    "scrolled": true
   },
   "outputs": [
    {
     "name": "stdout",
     "output_type": "stream",
     "text": [
      "FIBRINOGEN 2.0 g/L\n"
     ]
    }
   ],
   "source": [
    "#type(collection_frame)\n",
    "\n",
    "\n",
    "#print(testing)\n",
    "\n",
    "#print(df)\n",
    "print(df['Unnamed: 0'][32])"
   ]
  },
  {
   "cell_type": "code",
   "execution_count": 84,
   "metadata": {
    "scrolled": false
   },
   "outputs": [
    {
     "name": "stdout",
     "output_type": "stream",
     "text": [
      "HAEMOGLOBIN                                                              114\n",
      "HAEMATOCRIT                                                             0.31\n",
      "MCV                                                                       34\n",
      "MCH                                                                       13\n",
      "MCHC                                                                     368\n",
      "PLATELET APPEARANCE                                                   Normal\n",
      "PLATELET COUNT                                                           332\n",
      "WBC                                                                      7.0\n",
      "NEUTROPHILS%                                                              24\n",
      "NEUTROPHILS                                                              1.7\n",
      "LYMPHOCYTES%                                                              70\n",
      "LYMPHOCYTES                                                              4.9\n",
      "MONOCYTES%                                                                 4\n",
      "MONOCYTES                                                                0.3\n",
      "EOSINOPHILS%                                                               1\n",
      "EOSINOPHILS                                                              0.1\n",
      "BASOPHILS%                                                                 1\n",
      "BASOPHILS                                                                0.1\n",
      "PROTEIN PLASMA                                                           per\n",
      "FIBRINOGEN                                                                  \n",
      "PLASMA APPEARANCE                                                        g/L\n",
      "BLOOD SMEAR EXAMINATION    PLASMA APPEARANCE To Follow, Red cell and whit...\n",
      "Name: 1, dtype: object\n"
     ]
    }
   ],
   "source": [
    "list(df)\n",
    "RBC_Value= df['Unnamed: 0'][df['Unnamed: 0'].str.contains(\"RBC\").__eq__(True)]\n",
    "#print(RBC_Value)\n",
    "\n",
    "Fibrinogen_Value= df['Unnamed: 0'][df['Unnamed: 0'].str.contains(\"FIBRINOGEN\").__eq__(True)]\n",
    "#print(Fibrinogen_Value)\n",
    "\n",
    "#Protein_Value= df['Unnamed: 0'][df['Unnamed: 0'].str.contains(\"PROTEIN\").__eq__(True)]\n",
    "#print(Protein_Value)\n",
    "\n",
    "#getting rows from start to finish\n",
    "test= df['Unnamed: 0'].str.split(' ', expand=True)[1][11:32]\n",
    "#print(test)\n",
    "test2 = df['Unnamed: 0'].str.split(' ', expand=True)[2][18]\n",
    "\n",
    "test3 = df['Unnamed: 0'].str.split(' ', expand=True)[3][30]\n",
    "#print(test3)\n",
    "\n",
    "platelet_appearance = df['Unnamed: 0'].str.split(' ', expand=True)[1][17]\n",
    "plasma_appearance = df['Unnamed: 0'].str.split(' ', expand=True)[2][32]\n",
    "\n",
    "\n",
    "# Remove rows with alphabetic characters\n",
    "test=test[~test.str.contains(\"[a-zA-Z]\").fillna(False)]\n",
    "#print(test)\n",
    "columns = ['RBC', 'HAEMOGLOBIN', 'HAEMATOCRIT', 'MCV', 'MCH',            \n",
    "'MCHC',\n",
    "'PLATELET COUNT',\n",
    "'WBC',\n",
    "'NEUTROPHILS%',\n",
    "'NEUTROPHILS',\n",
    "'LYMPHOCYTES%',\n",
    "'LYMPHOCYTES',\n",
    "'MONOCYTES%',\n",
    "'MONOCYTES',\n",
    "'EOSINOPHILS%',\n",
    "'EOSINOPHILS',\n",
    "'BASOPHILS%',\n",
    "'BASOPHILS',\n",
    "'PROTEIN PLASMA',\n",
    "'FIBRINOGEN',\n",
    "'PLASMA APPEARANCE',\n",
    "'BLOOD SMEAR EXAMINATION']\n",
    "\n",
    "index = \"\"\n",
    "values = test\n",
    "             \n",
    "\n",
    "values[\"RBC\"] = test[11]\n",
    "values[\"HAEMOGLOBIN\"] = test[12]\n",
    "values[\"HAEMATOCRIT\"] =test[13]\n",
    "values[\"MCV\"] = test[14]\n",
    "values[\"MCH\"] = test[15]\n",
    "values[\"MCHC\"] = test[16]\n",
    "values[\"PLATELET APPEARANCE\"] = platelet_appearance\n",
    "values[\"PLATELET COUNT\"] = test2\n",
    "values[\"WBC\"] = test[19]\n",
    "values[\"NEUTROPHILS%\"] = test[20]\n",
    "values[\"NEUTROPHILS\"] = test[21]\n",
    "values[\"LYMPHOCYTES%\"] = test[22]\n",
    "values['LYMPHOCYTES'] = test[23]\n",
    "values[\"MONOCYTES%\"] = test[24]\n",
    "values[\"MONOCYTES\"] = test[25]\n",
    "values[\"EOSINOPHILS%\"] = test[26]\n",
    "values[\"EOSINOPHILS\"]  = test[27]\n",
    "values[\"BASOPHILS%\"] = test[28]\n",
    "values[\"BASOPHILS\"] = test[29]\n",
    "values[\"PROTEIN PLASMA\"] = test3\n",
    "values[\"FIBRINOGEN\"] = test[31]\n",
    "values[\"PLASMA APPEARANCE\"] = plasma_appearance\n",
    "\n",
    "#values[\"BLOOD SMEAR EXAMINATION\"] = test[32]\n",
    "\n",
    "def find_between( s, first, last ):\n",
    "    try:\n",
    "        start = s.index( first ) + len( first )\n",
    "        end = s.index( last, start )\n",
    "        return s[start:end]\n",
    "    except ValueError:\n",
    "        return \"\"\n",
    "\n",
    "def find_between_r( s, first, last ):\n",
    "    try:\n",
    "        start = s.rindex( first ) + len( first )\n",
    "        end = s.rindex( last, start )\n",
    "        return s[start:end]\n",
    "    except ValueError:\n",
    "        return \"\"\n",
    "\n",
    "\n",
    "blood_smear_examination = df['Unnamed: 0'][33:35]\n",
    "blood_smear_examination = blood_smear_examination.str.replace('BLOOD SMEAR', '')\n",
    "blood_smear_examination = blood_smear_examination.str.replace('EXAMINATION', '')\n",
    "blood_smear_examination= blood_smear_examination.str.cat(sep=',')\n",
    "values[\"BLOOD SMEAR EXAMINATION\"] = blood_smear_examination\n",
    "values = values[19:]\n",
    "print(values)\n"
   ]
  },
  {
   "cell_type": "code",
   "execution_count": 24,
   "metadata": {},
   "outputs": [
    {
     "name": "stdout",
     "output_type": "stream",
     "text": [
      " Red cell and white cell, morphology normal.\n"
     ]
    }
   ],
   "source": [
    "print(values[\"BLOOD SMEAR EXAMINATION\"])"
   ]
  },
  {
   "cell_type": "code",
   "execution_count": 25,
   "metadata": {},
   "outputs": [
    {
     "name": "stdout",
     "output_type": "stream",
     "text": [
      "RBC                                                                10.4\n",
      "HAEMOGLOBIN                                                         121\n",
      "HAEMATOCRIT                                                        0.37\n",
      "MCV                                                                  36\n",
      "MCH                                                                  12\n",
      "MCHC                                                                327\n",
      "PLATELET APPEARANCE                                              Normal\n",
      "PLATELET COUNT                                                      256\n",
      "WBC                                                                 7.1\n",
      "NEUTROPHILS%                                                         30\n",
      "NEUTROPHILS                                                         2.1\n",
      "LYMPHOCYTES%                                                         59\n",
      "LYMPHOCYTES                                                         4.2\n",
      "MONOCYTES%                                                            2\n",
      "MONOCYTES                                                           0.1\n",
      "EOSINOPHILS%                                                          9\n",
      "EOSINOPHILS                                                         0.6\n",
      "BASOPHILS%                                                            0\n",
      "BASOPHILS                                                           0.0\n",
      "PROTEIN PLASMA                                                       68\n",
      "FIBRINOGEN                                                          3.0\n",
      "PLASMA APPEARANCE                                                  Mild\n",
      "BLOOD SMEAR EXAMINATION     Red cell and white cell, morphology normal.\n",
      "Animal ID:                                                       EB #34\n",
      "Name: 1, dtype: object\n"
     ]
    }
   ],
   "source": [
    "animal_id = df[\"Unnamed: 1\"][5]\n",
    "#animal_id = animal_id.split('Animal ID:', expand=True)\n",
    "animal_id=animal_id.replace('Animal ID:','')\n",
    "values[\"Animal ID:\"]=animal_id\n",
    "print(values)"
   ]
  },
  {
   "cell_type": "code",
   "execution_count": 44,
   "metadata": {},
   "outputs": [
    {
     "name": "stdout",
     "output_type": "stream",
     "text": [
      "27/06/2018 \n"
     ]
    }
   ],
   "source": [
    "collection_date = df[\"Unnamed: 0\"][7]\n",
    "#collection_date= collection_date.replace('Received:', \"\")\n",
    "collection_date = collection_date.split(\"Received:\")[0]\n",
    "collection_date = collection_date.split(\"Collected:\")[1]\n",
    "values[\"Collected:\"] = collection_date\n",
    "#print(collection_date)\n",
    "#animal_id=animal_id.replace('Animal ID:','')\n",
    "#values[\"Animal ID:\"]=animal_id\n",
    "#print(values)\n",
    "print(collection_date)\n",
    "#print(df)"
   ]
  },
  {
   "cell_type": "code",
   "execution_count": 47,
   "metadata": {},
   "outputs": [
    {
     "name": "stdout",
     "output_type": "stream",
     "text": [
      "27/06/2018\n"
     ]
    }
   ],
   "source": [
    "received_date = df[\"Unnamed: 0\"][7]\n",
    "received_date = received_date.split(\"Received:\")[1]\n",
    "values[\"Received:\"] = received_date\n",
    "print(received_date)\n",
    "\n"
   ]
  },
  {
   "cell_type": "code",
   "execution_count": 48,
   "metadata": {},
   "outputs": [
    {
     "name": "stdout",
     "output_type": "stream",
     "text": [
      "RBC                                                                10.4\n",
      "HAEMOGLOBIN                                                         121\n",
      "HAEMATOCRIT                                                        0.37\n",
      "MCV                                                                  36\n",
      "MCH                                                                  12\n",
      "MCHC                                                                327\n",
      "PLATELET APPEARANCE                                              Normal\n",
      "PLATELET COUNT                                                      256\n",
      "WBC                                                                 7.1\n",
      "NEUTROPHILS%                                                         30\n",
      "NEUTROPHILS                                                         2.1\n",
      "LYMPHOCYTES%                                                         59\n",
      "LYMPHOCYTES                                                         4.2\n",
      "MONOCYTES%                                                            2\n",
      "MONOCYTES                                                           0.1\n",
      "EOSINOPHILS%                                                          9\n",
      "EOSINOPHILS                                                         0.6\n",
      "BASOPHILS%                                                            0\n",
      "BASOPHILS                                                           0.0\n",
      "PROTEIN PLASMA                                                       68\n",
      "FIBRINOGEN                                                          3.0\n",
      "PLASMA APPEARANCE                                                  Mild\n",
      "BLOOD SMEAR EXAMINATION     Red cell and white cell, morphology normal.\n",
      "Animal ID:                                                       EB #34\n",
      "Collected:                                                  27/06/2018 \n",
      "Received:                                                    27/06/2018\n",
      "Name: 1, dtype: object\n"
     ]
    }
   ],
   "source": [
    "#print(blood_smear_examination)\n",
    "#print(testing)\n",
    "print(values)"
   ]
  },
  {
   "cell_type": "code",
   "execution_count": 51,
   "metadata": {},
   "outputs": [
    {
     "name": "stdout",
     "output_type": "stream",
     "text": [
      "Lab Number: 2000604352\n"
     ]
    }
   ],
   "source": [
    "#print(df)\n",
    "lab_number = df['lab-adelaide@idexx.com lab-sydney@idexx.com'][3]\n",
    "values[\"Lab Number:\"] = lab_number\n",
    "\n"
   ]
  }
 ],
 "metadata": {
  "kernelspec": {
   "display_name": "Python 3",
   "language": "python",
   "name": "python3"
  },
  "language_info": {
   "codemirror_mode": {
    "name": "ipython",
    "version": 3
   },
   "file_extension": ".py",
   "mimetype": "text/x-python",
   "name": "python",
   "nbconvert_exporter": "python",
   "pygments_lexer": "ipython3",
   "version": "3.6.3"
  }
 },
 "nbformat": 4,
 "nbformat_minor": 2
}
