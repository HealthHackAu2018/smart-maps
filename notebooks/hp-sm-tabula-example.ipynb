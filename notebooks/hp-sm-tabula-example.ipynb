{
 "cells": [
  {
   "cell_type": "code",
   "execution_count": 1,
   "metadata": {},
   "outputs": [],
   "source": [
    "%load_ext autoreload\n",
    "%autoreload 2\n",
    "\n",
    "from tabula import read_pdf\n",
    "import re\n",
    "import pandas as pd"
   ]
  },
  {
   "cell_type": "code",
   "execution_count": 2,
   "metadata": {},
   "outputs": [],
   "source": [
    "pdf_name = '../sample-data/B1705_2000604586.pdf'"
   ]
  },
  {
   "cell_type": "code",
   "execution_count": 3,
   "metadata": {},
   "outputs": [],
   "source": [
    "json_obj = read_pdf(pdf_name, output_format='json', guess=False)"
   ]
  },
  {
   "cell_type": "code",
   "execution_count": 4,
   "metadata": {},
   "outputs": [],
   "source": [
    "AUTO_EXTRACT_META_DATA = ['Case ID', 'Collected', 'Received', 'Clinic No', 'Owner', 'Lab Number', 'Species', 'Reported', 'Sex', 'Age', 'Animal ID']"
   ]
  },
  {
   "cell_type": "code",
   "execution_count": 5,
   "metadata": {},
   "outputs": [],
   "source": [
    "def get_obj_with_text(json_obj, text):\n",
    "    for i in json_obj:\n",
    "        objs = i['data']\n",
    "        for obj in objs:\n",
    "            for o in obj:\n",
    "                if o['text'] == text:\n",
    "                    return o\n",
    "\n",
    "\n",
    "def get_obj_with_text_contains(json_obj, text):\n",
    "    for i in json_obj:\n",
    "        objs = i['data']\n",
    "        for obj in objs:\n",
    "            for o in obj:\n",
    "                if text in o['text']:\n",
    "                    return o\n",
    "\n",
    "                \n",
    "def extract_label_data(label, target_string):\n",
    "    m = re.search(f'{label}:( *\\S+)', target_string)\n",
    "    if m:\n",
    "        found = m.group(1)\n",
    "        return found\n",
    "    else:\n",
    "        return None\n",
    "\n",
    "\n",
    "def extract_metadata(json_obj):\n",
    "    output = {}\n",
    "    for key in AUTO_EXTRACT_META_DATA:\n",
    "        text = get_obj_with_text_contains(json_obj, f'{key}:')['text']\n",
    "        if key == 'Animal ID':\n",
    "            output[key] = text.replace(\"Animal ID:\", \"\").strip()\n",
    "        else:\n",
    "            output[key] = extract_label_data(key, text).strip()\n",
    "    return output\n",
    "\n",
    "\n",
    "def parse_value(val):\n",
    "    try:\n",
    "        return float(val)\n",
    "    except ValueError:\n",
    "        text = val.split(' ')\n",
    "        try:\n",
    "            return float(text[0])\n",
    "        except ValueError:\n",
    "            return val"
   ]
  },
  {
   "cell_type": "code",
   "execution_count": 6,
   "metadata": {},
   "outputs": [],
   "source": [
    "output = extract_metadata(json_obj)\n",
    "meta_df = pd.DataFrame(output, index=[0])"
   ]
  },
  {
   "cell_type": "code",
   "execution_count": 7,
   "metadata": {},
   "outputs": [
    {
     "data": {
      "text/plain": [
       "199.30999979019165"
      ]
     },
     "execution_count": 7,
     "metadata": {},
     "output_type": "execute_result"
    }
   ],
   "source": [
    "table_start = 0\n",
    "o = get_obj_with_text(json_obj, 'Range')\n",
    "table_start = o['top'] + o['height']\n",
    "table_start"
   ]
  },
  {
   "cell_type": "code",
   "execution_count": 8,
   "metadata": {},
   "outputs": [],
   "source": [
    "o = get_obj_with_text_contains(json_obj, 'BLOOD SMEAR')\n",
    "blood_smear_top = o['top']\n"
   ]
  },
  {
   "cell_type": "code",
   "execution_count": 9,
   "metadata": {},
   "outputs": [
    {
     "name": "stdout",
     "output_type": "stream",
     "text": [
      "Found space between This report has been automatically generated based on accepted physiological limits for the species and criteria and >250 x 10^9/L of 23.379999999999995\n"
     ]
    }
   ],
   "source": [
    "for i in json_obj:\n",
    "    objs = i['data']\n",
    "    for j, _ in enumerate(objs):\n",
    "        if j < len(i['data']) - 1:\n",
    "            prev = objs[j][0]\n",
    "            after = objs[j+1][0]\n",
    "            \n",
    "            diff = after['top'] - prev['top']\n",
    "            if diff > 20 and after['top'] > table_start and 'RBC' not in after['text']:\n",
    "                print(f\"Found space between {after['text']} and {prev['text']} of {diff}\")\n",
    "                table_end = after['top']\n",
    "                break\n",
    "            \n"
   ]
  },
  {
   "cell_type": "code",
   "execution_count": 10,
   "metadata": {},
   "outputs": [],
   "source": [
    "df = read_pdf(\n",
    "    pdf_name, output_format='dataframe', \n",
    "    guess=False, area=(table_start, 0, table_end, 1000), \n",
    "    pandas_options={'header': None})"
   ]
  },
  {
   "cell_type": "code",
   "execution_count": 11,
   "metadata": {},
   "outputs": [],
   "source": [
    "df = df.loc[:, 0:1]"
   ]
  },
  {
   "cell_type": "code",
   "execution_count": 12,
   "metadata": {},
   "outputs": [
    {
     "data": {
      "text/html": [
       "<div>\n",
       "<style scoped>\n",
       "    .dataframe tbody tr th:only-of-type {\n",
       "        vertical-align: middle;\n",
       "    }\n",
       "\n",
       "    .dataframe tbody tr th {\n",
       "        vertical-align: top;\n",
       "    }\n",
       "\n",
       "    .dataframe thead th {\n",
       "        text-align: right;\n",
       "    }\n",
       "</style>\n",
       "<table border=\"1\" class=\"dataframe\">\n",
       "  <thead>\n",
       "    <tr style=\"text-align: right;\">\n",
       "      <th></th>\n",
       "      <th>0</th>\n",
       "      <th>1</th>\n",
       "    </tr>\n",
       "  </thead>\n",
       "  <tbody>\n",
       "    <tr>\n",
       "      <th>0</th>\n",
       "      <td>RBC</td>\n",
       "      <td>6.6 L</td>\n",
       "    </tr>\n",
       "    <tr>\n",
       "      <th>1</th>\n",
       "      <td>HAEMOGLOBIN</td>\n",
       "      <td>75 L</td>\n",
       "    </tr>\n",
       "    <tr>\n",
       "      <th>2</th>\n",
       "      <td>HAEMATOCRIT</td>\n",
       "      <td>0.24 L</td>\n",
       "    </tr>\n",
       "    <tr>\n",
       "      <th>3</th>\n",
       "      <td>RETICULOCYTE %</td>\n",
       "      <td>0.0</td>\n",
       "    </tr>\n",
       "    <tr>\n",
       "      <th>4</th>\n",
       "      <td>RETICULOCYTE ABS</td>\n",
       "      <td>0</td>\n",
       "    </tr>\n",
       "    <tr>\n",
       "      <th>5</th>\n",
       "      <td>MCV</td>\n",
       "      <td>36</td>\n",
       "    </tr>\n",
       "    <tr>\n",
       "      <th>6</th>\n",
       "      <td>MCH</td>\n",
       "      <td>11</td>\n",
       "    </tr>\n",
       "    <tr>\n",
       "      <th>7</th>\n",
       "      <td>MCHC</td>\n",
       "      <td>313</td>\n",
       "    </tr>\n",
       "    <tr>\n",
       "      <th>8</th>\n",
       "      <td>WBC</td>\n",
       "      <td>2.2 L</td>\n",
       "    </tr>\n",
       "    <tr>\n",
       "      <th>9</th>\n",
       "      <td>NEUTROPHILS%</td>\n",
       "      <td>72</td>\n",
       "    </tr>\n",
       "    <tr>\n",
       "      <th>10</th>\n",
       "      <td>NEUTROPHILS</td>\n",
       "      <td>1.6</td>\n",
       "    </tr>\n",
       "    <tr>\n",
       "      <th>11</th>\n",
       "      <td>LYMPHOCYTES%</td>\n",
       "      <td>28</td>\n",
       "    </tr>\n",
       "    <tr>\n",
       "      <th>12</th>\n",
       "      <td>LYMPHOCYTES</td>\n",
       "      <td>0.6 L</td>\n",
       "    </tr>\n",
       "    <tr>\n",
       "      <th>13</th>\n",
       "      <td>MONOCYTES%</td>\n",
       "      <td>0</td>\n",
       "    </tr>\n",
       "    <tr>\n",
       "      <th>14</th>\n",
       "      <td>MONOCYTES</td>\n",
       "      <td>0.0</td>\n",
       "    </tr>\n",
       "    <tr>\n",
       "      <th>15</th>\n",
       "      <td>EOSINOPHILS%</td>\n",
       "      <td>0</td>\n",
       "    </tr>\n",
       "    <tr>\n",
       "      <th>16</th>\n",
       "      <td>EOSINOPHILS</td>\n",
       "      <td>0.0</td>\n",
       "    </tr>\n",
       "    <tr>\n",
       "      <th>17</th>\n",
       "      <td>BASOPHILS%</td>\n",
       "      <td>0</td>\n",
       "    </tr>\n",
       "    <tr>\n",
       "      <th>18</th>\n",
       "      <td>BASOPHILS</td>\n",
       "      <td>0.0</td>\n",
       "    </tr>\n",
       "    <tr>\n",
       "      <th>19</th>\n",
       "      <td>PROTEIN  PLASMA</td>\n",
       "      <td>37 L</td>\n",
       "    </tr>\n",
       "    <tr>\n",
       "      <th>20</th>\n",
       "      <td>FIBRINOGEN</td>\n",
       "      <td>1.0</td>\n",
       "    </tr>\n",
       "    <tr>\n",
       "      <th>21</th>\n",
       "      <td>PLASMA APPEARANCE</td>\n",
       "      <td>Normal</td>\n",
       "    </tr>\n",
       "    <tr>\n",
       "      <th>22</th>\n",
       "      <td>BLOOD SMEAR</td>\n",
       "      <td>Red cell and white cell</td>\n",
       "    </tr>\n",
       "    <tr>\n",
       "      <th>23</th>\n",
       "      <td>EXAMINATION</td>\n",
       "      <td>morphology normal.</td>\n",
       "    </tr>\n",
       "    <tr>\n",
       "      <th>24</th>\n",
       "      <td>NaN</td>\n",
       "      <td>Platelet estimate from the smear</td>\n",
       "    </tr>\n",
       "    <tr>\n",
       "      <th>25</th>\n",
       "      <td>NaN</td>\n",
       "      <td>&gt;250 x 10^9/L</td>\n",
       "    </tr>\n",
       "  </tbody>\n",
       "</table>\n",
       "</div>"
      ],
      "text/plain": [
       "                    0                                 1\n",
       "0                 RBC                             6.6 L\n",
       "1         HAEMOGLOBIN                              75 L\n",
       "2         HAEMATOCRIT                            0.24 L\n",
       "3      RETICULOCYTE %                               0.0\n",
       "4    RETICULOCYTE ABS                                 0\n",
       "5                 MCV                                36\n",
       "6                 MCH                                11\n",
       "7                MCHC                               313\n",
       "8                 WBC                             2.2 L\n",
       "9        NEUTROPHILS%                                72\n",
       "10        NEUTROPHILS                               1.6\n",
       "11       LYMPHOCYTES%                                28\n",
       "12        LYMPHOCYTES                             0.6 L\n",
       "13         MONOCYTES%                                 0\n",
       "14          MONOCYTES                               0.0\n",
       "15       EOSINOPHILS%                                 0\n",
       "16        EOSINOPHILS                               0.0\n",
       "17         BASOPHILS%                                 0\n",
       "18          BASOPHILS                               0.0\n",
       "19    PROTEIN  PLASMA                              37 L\n",
       "20         FIBRINOGEN                               1.0\n",
       "21  PLASMA APPEARANCE                            Normal\n",
       "22        BLOOD SMEAR           Red cell and white cell\n",
       "23        EXAMINATION                morphology normal.\n",
       "24                NaN  Platelet estimate from the smear\n",
       "25                NaN                     >250 x 10^9/L"
      ]
     },
     "execution_count": 12,
     "metadata": {},
     "output_type": "execute_result"
    }
   ],
   "source": [
    "df"
   ]
  },
  {
   "cell_type": "code",
   "execution_count": 13,
   "metadata": {},
   "outputs": [],
   "source": [
    "df[1] = df[1].apply(parse_value)"
   ]
  },
  {
   "cell_type": "code",
   "execution_count": 14,
   "metadata": {},
   "outputs": [],
   "source": [
    "df_meta = meta_df.T.reset_index()\n",
    "df_meta.columns = [0, 1]"
   ]
  },
  {
   "cell_type": "code",
   "execution_count": 15,
   "metadata": {},
   "outputs": [],
   "source": [
    "df = df_meta.append(df).reset_index(drop=True)"
   ]
  },
  {
   "cell_type": "code",
   "execution_count": 16,
   "metadata": {},
   "outputs": [],
   "source": [
    "blood_smear_index = df.index[df[0] == 'BLOOD SMEAR'].tolist()[0]"
   ]
  },
  {
   "cell_type": "code",
   "execution_count": 17,
   "metadata": {},
   "outputs": [],
   "source": [
    "blood_smear_str = ', '.join(df.iloc[blood_smear_index:len(df)][1].tolist())"
   ]
  },
  {
   "cell_type": "code",
   "execution_count": 18,
   "metadata": {},
   "outputs": [],
   "source": [
    "df = df.drop(df.index[[i for i in range(blood_smear_index, len(df))]])"
   ]
  },
  {
   "cell_type": "code",
   "execution_count": 19,
   "metadata": {},
   "outputs": [],
   "source": [
    "df = df.append({0: 'BLOOD SMEAR EXAMINATION', 1: blood_smear_str}, ignore_index=True)"
   ]
  },
  {
   "cell_type": "code",
   "execution_count": 20,
   "metadata": {},
   "outputs": [],
   "source": [
    "df_T = df.T\n",
    "df_T.columns = df_T.iloc[0, :]\n",
    "df_T = df_T.drop(df_T.index[[0]])\n",
    "df_T = df_T.reset_index(drop=True)"
   ]
  },
  {
   "cell_type": "code",
   "execution_count": 21,
   "metadata": {},
   "outputs": [
    {
     "data": {
      "text/html": [
       "<div>\n",
       "<style scoped>\n",
       "    .dataframe tbody tr th:only-of-type {\n",
       "        vertical-align: middle;\n",
       "    }\n",
       "\n",
       "    .dataframe tbody tr th {\n",
       "        vertical-align: top;\n",
       "    }\n",
       "\n",
       "    .dataframe thead th {\n",
       "        text-align: right;\n",
       "    }\n",
       "</style>\n",
       "<table border=\"1\" class=\"dataframe\">\n",
       "  <thead>\n",
       "    <tr style=\"text-align: right;\">\n",
       "      <th></th>\n",
       "      <th>Case ID</th>\n",
       "      <th>Collected</th>\n",
       "      <th>Received</th>\n",
       "      <th>Clinic No</th>\n",
       "      <th>Owner</th>\n",
       "      <th>Lab Number</th>\n",
       "      <th>Species</th>\n",
       "      <th>Reported</th>\n",
       "      <th>Sex</th>\n",
       "      <th>Age</th>\n",
       "      <th>...</th>\n",
       "      <th>MONOCYTES%</th>\n",
       "      <th>MONOCYTES</th>\n",
       "      <th>EOSINOPHILS%</th>\n",
       "      <th>EOSINOPHILS</th>\n",
       "      <th>BASOPHILS%</th>\n",
       "      <th>BASOPHILS</th>\n",
       "      <th>PROTEIN  PLASMA</th>\n",
       "      <th>FIBRINOGEN</th>\n",
       "      <th>PLASMA APPEARANCE</th>\n",
       "      <th>BLOOD SMEAR EXAMINATION</th>\n",
       "    </tr>\n",
       "  </thead>\n",
       "  <tbody>\n",
       "    <tr>\n",
       "      <th>0</th>\n",
       "      <td>N/A</td>\n",
       "      <td>27/06/2018</td>\n",
       "      <td>27/06/2018</td>\n",
       "      <td>B1705</td>\n",
       "      <td>CCRG</td>\n",
       "      <td>2000604586</td>\n",
       "      <td>OVINE</td>\n",
       "      <td>28/06/2018</td>\n",
       "      <td>N/A</td>\n",
       "      <td>N/A</td>\n",
       "      <td>...</td>\n",
       "      <td>0</td>\n",
       "      <td>0</td>\n",
       "      <td>0</td>\n",
       "      <td>0</td>\n",
       "      <td>0</td>\n",
       "      <td>0</td>\n",
       "      <td>37</td>\n",
       "      <td>1</td>\n",
       "      <td>Normal</td>\n",
       "      <td>Red cell and white cell, morphology normal., P...</td>\n",
       "    </tr>\n",
       "  </tbody>\n",
       "</table>\n",
       "<p>1 rows × 34 columns</p>\n",
       "</div>"
      ],
      "text/plain": [
       "0 Case ID   Collected    Received Clinic No Owner  Lab Number Species  \\\n",
       "0     N/A  27/06/2018  27/06/2018     B1705  CCRG  2000604586   OVINE   \n",
       "\n",
       "0    Reported  Sex  Age                        ...                          \\\n",
       "0  28/06/2018  N/A  N/A                        ...                           \n",
       "\n",
       "0 MONOCYTES% MONOCYTES EOSINOPHILS% EOSINOPHILS BASOPHILS% BASOPHILS  \\\n",
       "0          0         0            0           0          0         0   \n",
       "\n",
       "0 PROTEIN  PLASMA FIBRINOGEN PLASMA APPEARANCE  \\\n",
       "0              37          1            Normal   \n",
       "\n",
       "0                            BLOOD SMEAR EXAMINATION  \n",
       "0  Red cell and white cell, morphology normal., P...  \n",
       "\n",
       "[1 rows x 34 columns]"
      ]
     },
     "execution_count": 21,
     "metadata": {},
     "output_type": "execute_result"
    }
   ],
   "source": [
    "df_T.head()"
   ]
  }
 ],
 "metadata": {
  "kernelspec": {
   "display_name": "Python 3",
   "language": "python",
   "name": "python3"
  },
  "language_info": {
   "codemirror_mode": {
    "name": "ipython",
    "version": 3
   },
   "file_extension": ".py",
   "mimetype": "text/x-python",
   "name": "python",
   "nbconvert_exporter": "python",
   "pygments_lexer": "ipython3",
   "version": "3.6.4"
  }
 },
 "nbformat": 4,
 "nbformat_minor": 2
}
